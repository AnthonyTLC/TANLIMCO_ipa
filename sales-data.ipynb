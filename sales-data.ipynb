{
 "cells": [
  {
   "cell_type": "code",
   "execution_count": 97,
   "id": "efaa90d7-1e44-4a7f-bb19-5443681da146",
   "metadata": {},
   "outputs": [
    {
     "name": "stdout",
     "output_type": "stream",
     "text": [
      "      invoice_no  customer_id         category  quantity    price  \\\n",
      "0        I138884          229         Clothing         5  1500.40   \n",
      "1        I317333         3433            Shoes         3  1800.51   \n",
      "2        I127801          644         Clothing         1   300.08   \n",
      "3        I173702         4900            Shoes         5  3000.85   \n",
      "4        I337046         1089            Books         4    60.60   \n",
      "...          ...          ...              ...       ...      ...   \n",
      "99452    I219422         2344         Souvenir         5    58.65   \n",
      "99453    I325143          172  Food & Beverage         2    10.46   \n",
      "99454    I824010          425  Food & Beverage         2    10.46   \n",
      "99455    I702964          577       Technology         4  4200.00   \n",
      "99456    I232867           30         Souvenir         3    35.19   \n",
      "\n",
      "      payment_method invoice_date     shopping_mall  \n",
      "0        Credit Card     5/8/2022            Kanyon  \n",
      "1         Debit Card   12/12/2021    Forum Istanbul  \n",
      "2               Cash    9/11/2021         Metrocity  \n",
      "3        Credit Card   16/05/2021      Metropol AVM  \n",
      "4               Cash   24/10/2021            Kanyon  \n",
      "...              ...          ...               ...  \n",
      "99452    Credit Card   21/09/2022            Kanyon  \n",
      "99453           Cash   22/09/2021    Forum Istanbul  \n",
      "99454     Debit Card   28/03/2021         Metrocity  \n",
      "99455           Cash   16/03/2021      Istinye Park  \n",
      "99456    Credit Card   15/10/2022  Mall of Istanbul  \n",
      "\n",
      "[99457 rows x 8 columns]\n"
     ]
    }
   ],
   "source": [
    "import numpy as np\n",
    "import pandas as pd\n",
    "import matplotlib.pyplot as plt\n",
    "\n",
    "invoice = pd.read_csv(r'C:\\Users\\Anthony\\Downloads\\fct_invoice.csv')\n",
    "\n",
    "print(invoice)"
   ]
  },
  {
   "cell_type": "code",
   "execution_count": 99,
   "id": "20e71ec9-e160-40f6-a3b4-c41b3d4ad938",
   "metadata": {
    "scrolled": true
   },
   "outputs": [
    {
     "name": "stdout",
     "output_type": "stream",
     "text": [
      "       age first_name gender     id last_name\n",
      "0     48.0   Nicholas      M      0    Flores\n",
      "1      NaN    Jeffery      M      1      Rowe\n",
      "2     57.0     Alexis      F      2    Benton\n",
      "3     73.0        Amy      F      3   Johnson\n",
      "4     20.0      David      M      4     Moore\n",
      "...    ...        ...    ...    ...       ...\n",
      "5186   NaN     Arthur      M   9428    Harris\n",
      "5187   NaN      David      M   9494       Roy\n",
      "5188  85.0     Thomas      M  10350    Turner\n",
      "5189   NaN      April      F  10587   Sanchez\n",
      "5190   NaN     Andrew      M  10934   Compton\n",
      "\n",
      "[5191 rows x 5 columns]\n"
     ]
    }
   ],
   "source": [
    "customer = pd.read_json(r\"C:\\Users\\Anthony\\Downloads\\dim_customer.json\")\n",
    "\n",
    "print(customer)"
   ]
  },
  {
   "cell_type": "code",
   "execution_count": 101,
   "id": "120a6181-7bbc-433f-877d-977c33054947",
   "metadata": {},
   "outputs": [
    {
     "name": "stdout",
     "output_type": "stream",
     "text": [
      "5191\n"
     ]
    }
   ],
   "source": [
    "#1 Easy: How many unique customers are in the dataset?\n",
    "\n",
    "unique_customer = customer['id'].nunique()\n",
    "print(unique_customer)"
   ]
  },
  {
   "cell_type": "code",
   "execution_count": 103,
   "id": "802e0362-a04d-4c9e-8413-e680c486e288",
   "metadata": {},
   "outputs": [
    {
     "name": "stdout",
     "output_type": "stream",
     "text": [
      "8\n",
      "['Clothing' 'Shoes' 'Books' 'Cosmetics' 'Food & Beverage' 'Toys'\n",
      " 'Technology' 'Souvenir']\n"
     ]
    }
   ],
   "source": [
    "#2 Easy: What are the different categories of products available? How many unique categories are there?\n",
    "\n",
    "unique_categories = invoice['category'].unique()\n",
    "count_categories = invoice['category'].nunique()\n",
    "print(count_categories)\n",
    "print(unique_categories)"
   ]
  },
  {
   "cell_type": "code",
   "execution_count": 105,
   "id": "959f6d95-9507-4d99-b566-563257522749",
   "metadata": {},
   "outputs": [
    {
     "name": "stdout",
     "output_type": "stream",
     "text": [
      "payment_method\n",
      "Cash           44447\n",
      "Credit Card    34931\n",
      "Debit Card     20079\n",
      "Name: count, dtype: int64\n"
     ]
    }
   ],
   "source": [
    "#3 Easy: Which payment method is the most popular? How many times was it used?\n",
    "\n",
    "popular_payment_method = invoice['payment_method'].value_counts()\n",
    "print(popular_payment_method)"
   ]
  },
  {
   "cell_type": "code",
   "execution_count": 107,
   "id": "3dcc27f5-ca1f-4841-8f6e-1dbcf6b2cac3",
   "metadata": {},
   "outputs": [
    {
     "name": "stdout",
     "output_type": "stream",
     "text": [
      "     category         sales\n",
      "1    Clothing  1.139968e+08\n",
      "4       Shoes  6.655345e+07\n",
      "6  Technology  5.786235e+07\n"
     ]
    }
   ],
   "source": [
    "#1 Medium: What are the three most popular categories, by total sales?\n",
    "\n",
    "invoice['sales'] = invoice['price']*invoice['quantity']\n",
    "category_sales = invoice.groupby('category')['sales'].sum().reset_index()\n",
    "popular_category = category_sales.sort_values('sales', ascending=False)\n",
    "\n",
    "print(popular_category.head(3))"
   ]
  },
  {
   "cell_type": "code",
   "execution_count": 109,
   "id": "ce44521e-66ea-4480-a7df-7b05669c3c9b",
   "metadata": {},
   "outputs": [
    {
     "name": "stdout",
     "output_type": "stream",
     "text": [
      "82039768.15\n"
     ]
    }
   ],
   "source": [
    "#2 Medium: What are the total sales attributed to customers over the age of 45?\n",
    "\n",
    "merged_df = pd.merge(invoice, customer, left_on='customer_id', right_on='id')\n",
    "over_45_sales = merged_df[merged_df['age'] > 45]\n",
    "over_45_total_sales = over_45_sales['sales'].sum()\n",
    "print(over_45_total_sales)"
   ]
  },
  {
   "cell_type": "code",
   "execution_count": 149,
   "id": "f92634d3-8533-44e8-9548-5df0c8b3c07a",
   "metadata": {},
   "outputs": [
    {
     "data": {
      "image/png": "[encoded data removed]",
      "text/plain": [
       "<Figure size 640x480 with 1 Axes>"
      ]
     },
     "metadata": {},
     "output_type": "display_data"
    }
   ],
   "source": [
    "#3 Medium: How is the data distributed across different invoice dates? Are there any seasonal trends or patterns? (Use a graph for this.)\n",
    "\n",
    "invoice.index = pd.to_datetime(invoice.index, format='%d/%m/%Y')\n",
    "monthly_sales = invoice['sales'].resample('M').sum()\n",
    "\n",
    "plt.figure()\n",
    "plt.plot(monthly_sales.index, monthly_sales.values, marker='d', color='g', linestyle='-')\n",
    "plt.title('Monthly Sales Trend')\n",
    "plt.xlabel('Date')\n",
    "plt.ylabel('Sales Amount')\n",
    "plt.xticks(rotation=45)\n",
    "plt.grid(True)\n",
    "plt.tight_layout()\n",
    "plt.show()"
   ]
  },
  {
   "cell_type": "code",
   "execution_count": 179,
   "id": "20040f63-3588-4524-a0f5-fd84fb7b49bb",
   "metadata": {},
   "outputs": [
    {
     "name": "stdout",
     "output_type": "stream",
     "text": [
      "Pivot Table - Sales Breakdown by Category and Decade Age Range:\n",
      "decade_age_range       10-19        20-29        30-39        40-49  \\\n",
      "category                                                              \n",
      "Books               12801.75     79461.75     84143.10     87203.40   \n",
      "Clothing          1927413.84  10250732.80  11354126.96  11215189.92   \n",
      "Cosmetics          109619.36    605915.32    723544.70    665034.96   \n",
      "Food & Beverage     13582.31     73491.96     87246.86     89553.29   \n",
      "Shoes              993281.35   5924878.24   7200839.66   7025590.02   \n",
      "Souvenir            12375.15     54943.32     64092.72     66391.80   \n",
      "Technology        1129800.00   5261550.00   6159300.00   5954550.00   \n",
      "Toys                60426.24    385100.80    420582.40    390906.88   \n",
      "\n",
      "decade_age_range        50-59        60-69       70-79       80-89  90-99  \n",
      "category                                                                   \n",
      "Books                74962.20     80476.80    54827.85    26664.00    0.0  \n",
      "Clothing          10321851.76  10660642.08  7769371.28  4493698.00    0.0  \n",
      "Cosmetics           587780.96    649990.76   419082.62   254531.60    0.0  \n",
      "Food & Beverage      72425.04     80976.09    55050.98    31332.93    0.0  \n",
      "Shoes              5852857.84   5978893.54  4480269.05  2628744.60    0.0  \n",
      "Souvenir             54943.32     55025.43    38673.81    23718.06    0.0  \n",
      "Technology         4435200.00   5471550.00  3638250.00  1946700.00    0.0  \n",
      "Toys                345067.52    363955.20   273244.16   153932.80    0.0  \n"
     ]
    }
   ],
   "source": [
    "#1 Hard: Create a pivot table showing the breakdown of sales across these dimensions, in this order: category, decade age range (e.g., 10-19, 20-29, and so forth).\n",
    "\n",
    "merged_df['decade_age_range'] = pd.cut(merged_df['age'], bins=[10, 19, 29, 39, 49, 59, 69, 79, 89, 99], labels=['10-19', '20-29', '30-39', '40-49', '50-59', '60-69', '70-79', '80-89', '90-99'])\n",
    "pivot_table = pd.pivot_table(merged_df, index='category', columns='decade_age_range', values='sales', aggfunc='sum', fill_value=0)\n",
    "print(\"Pivot Table - Sales Breakdown by Category and Decade Age Range:\")\n",
    "print(pivot_table)"
   ]
  },
  {
   "cell_type": "code",
   "execution_count": null,
   "id": "687af860-c901-47e1-bc70-77a889085bf9",
   "metadata": {},
   "outputs": [],
   "source": []
  }
 ],
 "metadata": {
  "kernelspec": {
   "display_name": "Python 3 (ipykernel)",
   "language": "python",
   "name": "python3"
  },
  "language_info": {
   "codemirror_mode": {
    "name": "ipython",
    "version": 3
   },
   "file_extension": ".py",
   "mimetype": "text/x-python",
   "name": "python",
   "nbconvert_exporter": "python",
   "pygments_lexer": "ipython3",
   "version": "3.11.7"
  }
 },
 "nbformat": 4,
 "nbformat_minor": 5
}
